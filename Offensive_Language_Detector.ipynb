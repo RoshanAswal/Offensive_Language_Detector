{
 "cells": [
  {
   "cell_type": "code",
   "execution_count": 1,
   "id": "26fad145",
   "metadata": {},
   "outputs": [],
   "source": [
    "import pandas as pd\n",
    "import numpy as np \n",
    "import seaborn as sb\n",
    "from sklearn.model_selection import train_test_split\n",
    "from sklearn.pipeline import Pipeline"
   ]
  },
  {
   "cell_type": "code",
   "execution_count": 2,
   "id": "aaffd20c",
   "metadata": {},
   "outputs": [
    {
     "data": {
      "text/html": [
       "<div>\n",
       "<style scoped>\n",
       "    .dataframe tbody tr th:only-of-type {\n",
       "        vertical-align: middle;\n",
       "    }\n",
       "\n",
       "    .dataframe tbody tr th {\n",
       "        vertical-align: top;\n",
       "    }\n",
       "\n",
       "    .dataframe thead th {\n",
       "        text-align: right;\n",
       "    }\n",
       "</style>\n",
       "<table border=\"1\" class=\"dataframe\">\n",
       "  <thead>\n",
       "    <tr style=\"text-align: right;\">\n",
       "      <th></th>\n",
       "      <th>Unnamed: 0</th>\n",
       "      <th>count</th>\n",
       "      <th>hate_speech</th>\n",
       "      <th>offensive_language</th>\n",
       "      <th>neither</th>\n",
       "      <th>class</th>\n",
       "      <th>tweet</th>\n",
       "    </tr>\n",
       "  </thead>\n",
       "  <tbody>\n",
       "    <tr>\n",
       "      <th>0</th>\n",
       "      <td>0</td>\n",
       "      <td>3</td>\n",
       "      <td>0</td>\n",
       "      <td>0</td>\n",
       "      <td>3</td>\n",
       "      <td>2</td>\n",
       "      <td>!!! RT @mayasolovely: As a woman you shouldn't...</td>\n",
       "    </tr>\n",
       "    <tr>\n",
       "      <th>1</th>\n",
       "      <td>1</td>\n",
       "      <td>3</td>\n",
       "      <td>0</td>\n",
       "      <td>3</td>\n",
       "      <td>0</td>\n",
       "      <td>1</td>\n",
       "      <td>!!!!! RT @mleew17: boy dats cold...tyga dwn ba...</td>\n",
       "    </tr>\n",
       "    <tr>\n",
       "      <th>2</th>\n",
       "      <td>2</td>\n",
       "      <td>3</td>\n",
       "      <td>0</td>\n",
       "      <td>3</td>\n",
       "      <td>0</td>\n",
       "      <td>1</td>\n",
       "      <td>!!!!!!! RT @UrKindOfBrand Dawg!!!! RT @80sbaby...</td>\n",
       "    </tr>\n",
       "    <tr>\n",
       "      <th>3</th>\n",
       "      <td>3</td>\n",
       "      <td>3</td>\n",
       "      <td>0</td>\n",
       "      <td>2</td>\n",
       "      <td>1</td>\n",
       "      <td>1</td>\n",
       "      <td>!!!!!!!!! RT @C_G_Anderson: @viva_based she lo...</td>\n",
       "    </tr>\n",
       "    <tr>\n",
       "      <th>4</th>\n",
       "      <td>4</td>\n",
       "      <td>6</td>\n",
       "      <td>0</td>\n",
       "      <td>6</td>\n",
       "      <td>0</td>\n",
       "      <td>1</td>\n",
       "      <td>!!!!!!!!!!!!! RT @ShenikaRoberts: The shit you...</td>\n",
       "    </tr>\n",
       "  </tbody>\n",
       "</table>\n",
       "</div>"
      ],
      "text/plain": [
       "   Unnamed: 0  count  hate_speech  offensive_language  neither  class  \\\n",
       "0           0      3            0                   0        3      2   \n",
       "1           1      3            0                   3        0      1   \n",
       "2           2      3            0                   3        0      1   \n",
       "3           3      3            0                   2        1      1   \n",
       "4           4      6            0                   6        0      1   \n",
       "\n",
       "                                               tweet  \n",
       "0  !!! RT @mayasolovely: As a woman you shouldn't...  \n",
       "1  !!!!! RT @mleew17: boy dats cold...tyga dwn ba...  \n",
       "2  !!!!!!! RT @UrKindOfBrand Dawg!!!! RT @80sbaby...  \n",
       "3  !!!!!!!!! RT @C_G_Anderson: @viva_based she lo...  \n",
       "4  !!!!!!!!!!!!! RT @ShenikaRoberts: The shit you...  "
      ]
     },
     "execution_count": 2,
     "metadata": {},
     "output_type": "execute_result"
    }
   ],
   "source": [
    "dataset=pd.read_csv(\"labeled_data.csv\")\n",
    "dataset.head()"
   ]
  },
  {
   "cell_type": "code",
   "execution_count": 3,
   "id": "f5f56be2",
   "metadata": {},
   "outputs": [],
   "source": [
    "dataset.drop(['count','hate_speech','offensive_language','neither'],axis=1,inplace=True)"
   ]
  },
  {
   "cell_type": "code",
   "execution_count": 4,
   "id": "f1f4a5a8",
   "metadata": {},
   "outputs": [],
   "source": [
    "dataset['class']=dataset['class'].apply(lambda x:0 if x==2 else 1)"
   ]
  },
  {
   "cell_type": "code",
   "execution_count": 5,
   "id": "e8245a2c",
   "metadata": {},
   "outputs": [
    {
     "name": "stderr",
     "output_type": "stream",
     "text": [
      "/home/rdev/notebook/jupyterenv/lib/python3.8/site-packages/seaborn/_decorators.py:36: FutureWarning: Pass the following variable as a keyword arg: x. From version 0.12, the only valid positional argument will be `data`, and passing other arguments without an explicit keyword will result in an error or misinterpretation.\n",
      "  warnings.warn(\n"
     ]
    },
    {
     "data": {
      "text/plain": [
       "<AxesSubplot:xlabel='class', ylabel='count'>"
      ]
     },
     "execution_count": 5,
     "metadata": {},
     "output_type": "execute_result"
    },
    {
     "data": {
      "image/png": "[encoded data removed]",
      "text/plain": [
       "<Figure size 432x288 with 1 Axes>"
      ]
     },
     "metadata": {
      "needs_background": "light"
     },
     "output_type": "display_data"
    }
   ],
   "source": [
    "import seaborn as sb\n",
    "sb.countplot(dataset['class'])"
   ]
  },
  {
   "cell_type": "code",
   "execution_count": 6,
   "id": "209bc38b",
   "metadata": {},
   "outputs": [
    {
     "data": {
      "text/plain": [
       "<AxesSubplot:>"
      ]
     },
     "execution_count": 6,
     "metadata": {},
     "output_type": "execute_result"
    },
    {
     "data": {
      "image/png": "[encoded data removed]",
      "text/plain": [
       "<Figure size 432x288 with 1 Axes>"
      ]
     },
     "metadata": {
      "needs_background": "light"
     },
     "output_type": "display_data"
    }
   ],
   "source": [
    "sb.heatmap(dataset.isnull(),yticklabels=False,cbar=False)"
   ]
  },
  {
   "cell_type": "code",
   "execution_count": 7,
   "id": "b9cf9488",
   "metadata": {},
   "outputs": [
    {
     "name": "stdout",
     "output_type": "stream",
     "text": [
      "class\n",
      "0     4163\n",
      "1    20620\n",
      "dtype: int64\n"
     ]
    }
   ],
   "source": [
    "print(dataset.groupby(['class']).size())"
   ]
  },
  {
   "cell_type": "code",
   "execution_count": 8,
   "id": "32bec321",
   "metadata": {},
   "outputs": [
    {
     "data": {
      "text/plain": [
       "(24783, 3)"
      ]
     },
     "execution_count": 8,
     "metadata": {},
     "output_type": "execute_result"
    }
   ],
   "source": [
    "dataset.shape"
   ]
  },
  {
   "cell_type": "code",
   "execution_count": 9,
   "id": "6de30b7c",
   "metadata": {},
   "outputs": [],
   "source": [
    "todrop=[]\n",
    "count=0\n",
    "for ind,row in  dataset.iterrows():\n",
    "  if(row['class']==1):\n",
    "    todrop.append(ind)\n",
    "    count+=1\n",
    "  if count==10000:\n",
    "    break"
   ]
  },
  {
   "cell_type": "code",
   "execution_count": 10,
   "id": "fe5277ae",
   "metadata": {},
   "outputs": [],
   "source": [
    "dataset.drop(todrop,inplace=True)"
   ]
  },
  {
   "cell_type": "code",
   "execution_count": 11,
   "id": "24349d66",
   "metadata": {},
   "outputs": [
    {
     "name": "stdout",
     "output_type": "stream",
     "text": [
      "class\n",
      "0     4163\n",
      "1    10620\n",
      "dtype: int64\n"
     ]
    }
   ],
   "source": [
    "print(dataset.groupby(['class']).size())"
   ]
  },
  {
   "cell_type": "code",
   "execution_count": 12,
   "id": "1d603abe",
   "metadata": {},
   "outputs": [
    {
     "name": "stderr",
     "output_type": "stream",
     "text": [
      "/home/rdev/notebook/jupyterenv/lib/python3.8/site-packages/seaborn/_decorators.py:36: FutureWarning: Pass the following variable as a keyword arg: x. From version 0.12, the only valid positional argument will be `data`, and passing other arguments without an explicit keyword will result in an error or misinterpretation.\n",
      "  warnings.warn(\n"
     ]
    },
    {
     "data": {
      "text/plain": [
       "<AxesSubplot:xlabel='class', ylabel='count'>"
      ]
     },
     "execution_count": 12,
     "metadata": {},
     "output_type": "execute_result"
    },
    {
     "data": {
      "image/png": "[encoded data removed]",
      "text/plain": [
       "<Figure size 432x288 with 1 Axes>"
      ]
     },
     "metadata": {
      "needs_background": "light"
     },
     "output_type": "display_data"
    }
   ],
   "source": [
    "sb.countplot(dataset['class'])"
   ]
  },
  {
   "cell_type": "code",
   "execution_count": 13,
   "id": "ddae5a1f",
   "metadata": {},
   "outputs": [],
   "source": [
    "import re\n",
    "def remove_emojis(text):\n",
    "    emoji_pattern = re.compile(\"[\"\n",
    "        u\"\\U0001F600-\\U0001F64F\"  \n",
    "        u\"\\U0001F300-\\U0001F5FF\" \n",
    "        u\"\\U0001F680-\\U0001F6FF\" \n",
    "        u\"\\U0001F1E0-\\U0001F1FF\" \n",
    "                           \"]+\", flags=re.UNICODE)\n",
    "    emoji_pattern.sub('',text);\n",
    "    return text;"
   ]
  },
  {
   "cell_type": "code",
   "execution_count": 14,
   "id": "7b3732de",
   "metadata": {},
   "outputs": [],
   "source": [
    "def clean_dataset(text):\n",
    "    sentence=remove_emojis(text)\n",
    "    sentence=re.sub('[^a-zA-Z]',' ',sentence)\n",
    "    sentence=re.sub(r'\\s+[a-zA-Z]\\s+',' ',sentence)\n",
    "    sentence=re.sub(r'\\s+',' ',sentence)\n",
    "    return sentence"
   ]
  },
  {
   "cell_type": "code",
   "execution_count": 15,
   "id": "cff8dd82",
   "metadata": {},
   "outputs": [],
   "source": [
    "# Preprocessing tweets\n",
    "for ind,row in dataset.iterrows():\n",
    "  row['tweet']=clean_dataset(row['tweet'])"
   ]
  },
  {
   "cell_type": "code",
   "execution_count": 16,
   "id": "8368ceda",
   "metadata": {},
   "outputs": [
    {
     "data": {
      "text/plain": [
       "0        !!! RT @mayasolovely: As a woman you shouldn't...\n",
       "40         \" momma said no pussy cats inside my doghouse \"\n",
       "63       \"@Addicted2Guys: -SimplyAddictedToGuys http://...\n",
       "66       \"@AllAboutManFeet: http://t.co/3gzUpfuMev\" woo...\n",
       "67       \"@Allyhaaaaa: Lemmie eat a Oreo &amp; do these...\n",
       "                               ...                        \n",
       "24778    you's a muthaf***in lie &#8220;@LifeAsKing: @2...\n",
       "24779    you've gone and broke the wrong heart baby, an...\n",
       "24780    young buck wanna eat!!.. dat nigguh like I ain...\n",
       "24781                youu got wild bitches tellin you lies\n",
       "24782    ~~Ruffled | Ntac Eileen Dahlia - Beautiful col...\n",
       "Name: tweet, Length: 14783, dtype: object"
      ]
     },
     "execution_count": 16,
     "metadata": {},
     "output_type": "execute_result"
    }
   ],
   "source": [
    "dataset['tweet']"
   ]
  },
  {
   "cell_type": "code",
   "execution_count": 17,
   "id": "7e7ec217",
   "metadata": {},
   "outputs": [],
   "source": [
    "x=dataset['tweet']\n",
    "y=dataset['class']"
   ]
  },
  {
   "cell_type": "code",
   "execution_count": 18,
   "id": "e315f246",
   "metadata": {},
   "outputs": [],
   "source": [
    "x_train,x_test,y_train,y_test=train_test_split(x,y,test_size=0.2)"
   ]
  },
  {
   "cell_type": "code",
   "execution_count": 19,
   "id": "b334903b",
   "metadata": {},
   "outputs": [],
   "source": [
    "from sklearn.feature_extraction.text import CountVectorizer\n",
    "cv=CountVectorizer()\n",
    "train_data=cv.fit_transform(x_train)\n",
    "test_data=cv.transform(x_test)"
   ]
  },
  {
   "cell_type": "code",
   "execution_count": 20,
   "id": "75f3afd8",
   "metadata": {},
   "outputs": [
    {
     "name": "stderr",
     "output_type": "stream",
     "text": [
      "/home/rdev/notebook/jupyterenv/lib/python3.8/site-packages/seaborn/_decorators.py:36: FutureWarning: Pass the following variable as a keyword arg: x. From version 0.12, the only valid positional argument will be `data`, and passing other arguments without an explicit keyword will result in an error or misinterpretation.\n",
      "  warnings.warn(\n"
     ]
    },
    {
     "data": {
      "text/plain": [
       "<AxesSubplot:xlabel='class', ylabel='count'>"
      ]
     },
     "execution_count": 20,
     "metadata": {},
     "output_type": "execute_result"
    },
    {
     "data": {
      "image/png": "[encoded data removed]",
      "text/plain": [
       "<Figure size 432x288 with 1 Axes>"
      ]
     },
     "metadata": {
      "needs_background": "light"
     },
     "output_type": "display_data"
    }
   ],
   "source": [
    "from imblearn.over_sampling import SMOTE\n",
    "sm=SMOTE(sampling_strategy='minority',random_state=7)\n",
    "x,y=sm.fit_resample(train_data,y_train)\n",
    "sb.countplot(y)"
   ]
  },
  {
   "cell_type": "code",
   "execution_count": 21,
   "id": "df6bd9ea",
   "metadata": {},
   "outputs": [
    {
     "data": {
      "text/plain": [
       "MultinomialNB()"
      ]
     },
     "execution_count": 21,
     "metadata": {},
     "output_type": "execute_result"
    }
   ],
   "source": [
    "from sklearn.naive_bayes import MultinomialNB\n",
    "model=MultinomialNB()\n",
    "model.fit(x,y)"
   ]
  },
  {
   "cell_type": "code",
   "execution_count": 22,
   "id": "e89abae4",
   "metadata": {},
   "outputs": [],
   "source": [
    "predictions=model.predict(test_data)"
   ]
  },
  {
   "cell_type": "code",
   "execution_count": 23,
   "id": "b4f3f637",
   "metadata": {},
   "outputs": [
    {
     "name": "stdout",
     "output_type": "stream",
     "text": [
      "              precision    recall  f1-score   support\n",
      "\n",
      "           0       0.90      0.79      0.84       841\n",
      "           1       0.92      0.97      0.94      2116\n",
      "\n",
      "    accuracy                           0.92      2957\n",
      "   macro avg       0.91      0.88      0.89      2957\n",
      "weighted avg       0.92      0.92      0.91      2957\n",
      "\n",
      "[[ 664  177]\n",
      " [  72 2044]]\n"
     ]
    }
   ],
   "source": [
    "from sklearn.metrics import classification_report,confusion_matrix\n",
    "print(classification_report(y_test,predictions))\n",
    "print(confusion_matrix(y_test,predictions))"
   ]
  },
  {
   "cell_type": "code",
   "execution_count": 24,
   "id": "a22f64cb",
   "metadata": {},
   "outputs": [
    {
     "name": "stdout",
     "output_type": "stream",
     "text": [
      "prediction  -  1    real -  1\n",
      "prediction  -  1    real -  1\n",
      "prediction  -  1    real -  1\n",
      "prediction  -  1    real -  1\n",
      "prediction  -  1    real -  1\n"
     ]
    }
   ],
   "source": [
    "data=list(y_test)\n",
    "comments=list(x_test)\n",
    "for i in range(5):\n",
    "  print(\"prediction  - \",predictions[i],\"   real - \",data[i])"
   ]
  },
  {
   "cell_type": "code",
   "execution_count": 26,
   "id": "fb8bfa1f",
   "metadata": {},
   "outputs": [
    {
     "name": "stdout",
     "output_type": "stream",
     "text": [
      "Enter the comment - Have a nice day sir\n",
      "Enter 2nd comment - Stop this or i will kick your ass\n",
      "comment -  Have a nice day sir    prediction -  [0]\n",
      "comment -  Stop this or i will kick your ass    prediction -  [1]\n"
     ]
    }
   ],
   "source": [
    "# Predicting on single comment\n",
    "comment1=input(\"Enter the comment - \")\n",
    "comment2=input(\"Enter 2nd comment - \")\n",
    "vec1=cv.transform([comment1])\n",
    "vec2=cv.transform([comment2])\n",
    "prediction1 = model.predict(vec1)\n",
    "prediction2 = model.predict(vec2)\n",
    "print(\"comment - \",comment1,\"   prediction - \",prediction1)\n",
    "print(\"comment - \",comment2,\"   prediction - \",prediction2)"
   ]
  },
  {
   "cell_type": "code",
   "execution_count": 31,
   "id": "30a4747b",
   "metadata": {},
   "outputs": [],
   "source": [
    "import pickle\n",
    "pickle.dump(model,open(\"model.pkl\",'wb'))\n",
    "pickle.dump(cv,open(\"cv.pkl\",'wb'))"
   ]
  },
  {
   "cell_type": "code",
   "execution_count": 32,
   "id": "0c760f08",
   "metadata": {},
   "outputs": [],
   "source": [
    "saved_model=pickle.load(open(\"model.pkl\",'rb'))\n",
    "saved_cv=pickle.load(open(\"cv.pkl\",'rb'))"
   ]
  },
  {
   "cell_type": "code",
   "execution_count": 50,
   "id": "b98e554f",
   "metadata": {},
   "outputs": [],
   "source": [
    "test_comment=comments[232]"
   ]
  },
  {
   "cell_type": "code",
   "execution_count": 52,
   "id": "276de707",
   "metadata": {},
   "outputs": [
    {
     "name": "stdout",
     "output_type": "stream",
     "text": [
      "[0]\n"
     ]
    }
   ],
   "source": [
    "x=saved_cv.transform([test_comment])\n",
    "test_predict=saved_model.predict(x)\n",
    "print(test_predict)"
   ]
  },
  {
   "cell_type": "code",
   "execution_count": null,
   "id": "422d4ad5",
   "metadata": {},
   "outputs": [],
   "source": []
  }
 ],
 "metadata": {
  "kernelspec": {
   "display_name": "Python 3 (ipykernel)",
   "language": "python",
   "name": "python3"
  },
  "language_info": {
   "codemirror_mode": {
    "name": "ipython",
    "version": 3
   },
   "file_extension": ".py",
   "mimetype": "text/x-python",
   "name": "python",
   "nbconvert_exporter": "python",
   "pygments_lexer": "ipython3",
   "version": "3.8.10"
  }
 },
 "nbformat": 4,
 "nbformat_minor": 5
}
